{
 "cells": [
  {
   "cell_type": "code",
   "execution_count": null,
   "metadata": {},
   "outputs": [],
   "source": [
    "//\n",
    "// Ad hoc tree generation\n",
    "//\n",
    "\n",
    "TTree* tree = new TTree(\"tree\", \"tree\");\n",
    "float a_v[100];\n",
    "int b;\n",
    "tree->Branch(\"a_v\",a_v, \"a_v[100]/F\");\n",
    "tree->Branch(\"b\",&b, \"b/I\");\n",
    "\n",
    "for (int i=0; i<1000; i++){\n",
    "    for (int j=0; j<100; j++){\n",
    "        a_v[j] =  j+i;\n",
    "        b = i%10;\n",
    "    }\n",
    "    tree->Fill();\n",
    "}\n",
    "\n",
    "tree->Print();\n",
    "\n",
    "\n",
    "ROOT::RDataFrame dataframe_data (*tree);"
   ]
  },
  {
   "cell_type": "code",
   "execution_count": null,
   "metadata": {},
   "outputs": [],
   "source": [
    "\n",
    "  auto df_vect = dataframe_data.Filter (\"a_v[b]>3\");\n",
    "  std::cout << \"count  = \" << *(df_vect.Count()) << std::endl;\n",
    "  \n",
    "  "
   ]
  },
  {
   "cell_type": "code",
   "execution_count": null,
   "metadata": {},
   "outputs": [],
   "source": [
    "auto bla_fixed = dataframe_data.Define(\"a_v[b]\", \"a_v_b\").Filter (\"a_v_b>3\");\n"
   ]
  },
  {
   "cell_type": "code",
   "execution_count": null,
   "metadata": {},
   "outputs": [],
   "source": [
    "bla_fixed.Histo1D(\"a_v[b]\");\n"
   ]
  },
  {
   "cell_type": "code",
   "execution_count": null,
   "metadata": {},
   "outputs": [],
   "source": [
    "bla_fixed.Histo1D(\"a_v[2]\");\n",
    "\n"
   ]
  },
  {
   "cell_type": "code",
   "execution_count": null,
   "metadata": {},
   "outputs": [],
   "source": [
    "auto bla = dataframe_data.Filter (\"a_v[10]>3\");"
   ]
  }
 ],
 "metadata": {
  "kernelspec": {
   "display_name": "ROOT C++",
   "language": "c++",
   "name": "root"
  },
  "language_info": {
   "codemirror_mode": "text/x-c++src",
   "file_extension": ".C",
   "mimetype": " text/x-c++src",
   "name": "c++"
  }
 },
 "nbformat": 4,
 "nbformat_minor": 2
}
